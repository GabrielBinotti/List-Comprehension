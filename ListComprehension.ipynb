{
  "nbformat": 4,
  "nbformat_minor": 0,
  "metadata": {
    "colab": {
      "provenance": [],
      "authorship_tag": "ABX9TyMYAmg7DyctO1zS16Bi6n+a",
      "include_colab_link": true
    },
    "kernelspec": {
      "name": "python3",
      "display_name": "Python 3"
    },
    "language_info": {
      "name": "python"
    }
  },
  "cells": [
    {
      "cell_type": "markdown",
      "metadata": {
        "id": "view-in-github",
        "colab_type": "text"
      },
      "source": [
        "<a href=\"https://colab.research.google.com/github/GabrielBinotti/List-Comprehension/blob/main/ListComprehension.ipynb\" target=\"_parent\"><img src=\"https://colab.research.google.com/assets/colab-badge.svg\" alt=\"Open In Colab\"/></a>"
      ]
    },
    {
      "cell_type": "markdown",
      "source": [
        "# List Comprehension"
      ],
      "metadata": {
        "id": "hMRN2McbFlsV"
      }
    },
    {
      "cell_type": "code",
      "source": [
        "preco_produtos = [100,520,150,300,5500]\n",
        "produtos = ['vinho', 'cafeteira', 'relogio', 'microondas', 'iphone']"
      ],
      "metadata": {
        "id": "I7qGJtRNHc7m"
      },
      "execution_count": 1,
      "outputs": []
    },
    {
      "cell_type": "markdown",
      "source": [
        "Agora o valor do imposto de cada produto deve ser o valor dele mias 30%. Qual o valor de imposto de cada produto."
      ],
      "metadata": {
        "id": "HqX7e3UoHuIm"
      }
    },
    {
      "cell_type": "code",
      "source": [
        "# Forma tradicional\n",
        "impostos = []\n",
        "\n",
        "for item in preco_produtos:\n",
        "  impostos.append(item * 0.3)\n",
        "print(impostos)"
      ],
      "metadata": {
        "colab": {
          "base_uri": "https://localhost:8080/"
        },
        "id": "8ah-bELWIBv1",
        "outputId": "3edddabd-7b3d-40cf-c270-f5ae81353b49"
      },
      "execution_count": 2,
      "outputs": [
        {
          "output_type": "stream",
          "name": "stdout",
          "text": [
            "[30.0, 156.0, 45.0, 90.0, 1650.0]\n"
          ]
        }
      ]
    },
    {
      "cell_type": "code",
      "source": [
        "# Usando List Comprehension\n",
        "impostos = [preco * 0.3 for preco in preco_produtos]\n",
        "print(impostos)"
      ],
      "metadata": {
        "colab": {
          "base_uri": "https://localhost:8080/"
        },
        "id": "44_V-E1EITFO",
        "outputId": "6b1dd088-30af-4366-f74f-d0d9e8466c2e"
      },
      "execution_count": 3,
      "outputs": [
        {
          "output_type": "stream",
          "name": "stdout",
          "text": [
            "[30.0, 156.0, 45.0, 90.0, 1650.0]\n"
          ]
        }
      ]
    },
    {
      "cell_type": "markdown",
      "source": [
        "Para o segundo caso a leitura do código seria: para cada preço da lista preco_produtos será calculado um item da lista imposto. Esse valor será calculado por preço * 0.3"
      ],
      "metadata": {
        "id": "U4Fc0tZcIlEm"
      }
    },
    {
      "cell_type": "markdown",
      "source": [
        "# Transformando lista em lista de tuplas e usando o List Comprehension para percorrer os dados"
      ],
      "metadata": {
        "id": "6m6wQ-N4JVvG"
      }
    },
    {
      "cell_type": "code",
      "source": [
        "produtos = ['iphone', 'mac', 'tv', 'ps5']\n",
        "vendas = [1000, 421, 640, 5210]\n",
        "\n",
        "lista_tuplas = list(zip(vendas, produtos))\n",
        "lista_tuplas.sort(reverse=True)\n",
        "print(lista_tuplas)"
      ],
      "metadata": {
        "colab": {
          "base_uri": "https://localhost:8080/"
        },
        "id": "enH7V8z2JfJ8",
        "outputId": "da3b6f5c-ff70-47dc-b8bf-c19b3fed6d0f"
      },
      "execution_count": 4,
      "outputs": [
        {
          "output_type": "stream",
          "name": "stdout",
          "text": [
            "[(5210, 'ps5'), (1000, 'iphone'), (640, 'tv'), (421, 'mac')]\n"
          ]
        }
      ]
    },
    {
      "cell_type": "code",
      "source": [
        "# Imprimindo da forma convencional\n",
        "for item in lista_tuplas:\n",
        "  print(item)"
      ],
      "metadata": {
        "colab": {
          "base_uri": "https://localhost:8080/"
        },
        "id": "N6T7bOzGLN3G",
        "outputId": "b25ffebb-a61d-42ac-b922-62ef798679fd"
      },
      "execution_count": 5,
      "outputs": [
        {
          "output_type": "stream",
          "name": "stdout",
          "text": [
            "(5210, 'ps5')\n",
            "(1000, 'iphone')\n",
            "(640, 'tv')\n",
            "(421, 'mac')\n"
          ]
        }
      ]
    },
    {
      "cell_type": "code",
      "source": [
        "# Imprimindo com List Comprehesion\n",
        "prod = [produto for venda, produto in lista_tuplas]\n",
        "print(prod)"
      ],
      "metadata": {
        "colab": {
          "base_uri": "https://localhost:8080/"
        },
        "id": "6EqHJhP0LadW",
        "outputId": "e7f08ad5-e51b-4e65-9bf3-35b016e1896c"
      },
      "execution_count": 6,
      "outputs": [
        {
          "output_type": "stream",
          "name": "stdout",
          "text": [
            "['ps5', 'iphone', 'tv', 'mac']\n"
          ]
        }
      ]
    },
    {
      "cell_type": "markdown",
      "source": [
        "# Adicionando IF"
      ],
      "metadata": {
        "id": "ZPKmjrwjOZGH"
      }
    },
    {
      "cell_type": "code",
      "source": [
        "meta = 1000\n",
        "vendas = [120, 4000, 1240, 985, 2142]\n",
        "produtos = ['iphone',' ps5', 'monitor', 'mac', 'smartwatch']\n",
        "\n",
        "produto_acima_meta = [produto for i, produto in enumerate(produtos) if vendas[i] > meta]\n",
        "\n",
        "print(produto_acima_meta)"
      ],
      "metadata": {
        "colab": {
          "base_uri": "https://localhost:8080/"
        },
        "id": "_cqStJ8cOdK2",
        "outputId": "26d776c1-6430-4e3c-9e44-8cf0ac4e2214"
      },
      "execution_count": 7,
      "outputs": [
        {
          "output_type": "stream",
          "name": "stdout",
          "text": [
            "[' ps5', 'monitor', 'smartwatch']\n"
          ]
        }
      ]
    }
  ]
}