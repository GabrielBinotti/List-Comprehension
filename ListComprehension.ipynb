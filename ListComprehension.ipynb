{
  "nbformat": 4,
  "nbformat_minor": 0,
  "metadata": {
    "colab": {
      "provenance": [],
      "authorship_tag": "ABX9TyMEMslsFlYEQwSWdKf9D1rR",
      "include_colab_link": true
    },
    "kernelspec": {
      "name": "python3",
      "display_name": "Python 3"
    },
    "language_info": {
      "name": "python"
    }
  },
  "cells": [
    {
      "cell_type": "markdown",
      "metadata": {
        "id": "view-in-github",
        "colab_type": "text"
      },
      "source": [
        "<a href=\"https://colab.research.google.com/github/GabrielBinotti/List-Comprehension/blob/main/ListComprehension.ipynb\" target=\"_parent\"><img src=\"https://colab.research.google.com/assets/colab-badge.svg\" alt=\"Open In Colab\"/></a>"
      ]
    },
    {
      "cell_type": "markdown",
      "source": [
        "# List Comprehension"
      ],
      "metadata": {
        "id": "hMRN2McbFlsV"
      }
    },
    {
      "cell_type": "code",
      "source": [
        "preco_produtos = [100,520,150,300,5500]\n",
        "produtos = ['vinho', 'cafeteira', 'relogio', 'microondas', 'iphone']"
      ],
      "metadata": {
        "id": "I7qGJtRNHc7m"
      },
      "execution_count": null,
      "outputs": []
    },
    {
      "cell_type": "markdown",
      "source": [
        "Agora o valor do imposto de cada produto deve ser o valor dele mias 30%. Qual o valor de imposto de cada produto."
      ],
      "metadata": {
        "id": "HqX7e3UoHuIm"
      }
    },
    {
      "cell_type": "code",
      "source": [
        "# Forma tradicional\n",
        "impostos = []\n",
        "\n",
        "for item in preco_produtos:\n",
        "  impostos.append(item * 0,3)\n",
        "print(impostos)"
      ],
      "metadata": {
        "id": "8ah-bELWIBv1"
      },
      "execution_count": null,
      "outputs": []
    },
    {
      "cell_type": "code",
      "source": [
        "# Usando List Comprehension\n",
        "impostos = [preco * 0.3 for preco in preco_produtos]\n",
        "print(impostos)"
      ],
      "metadata": {
        "id": "44_V-E1EITFO"
      },
      "execution_count": null,
      "outputs": []
    },
    {
      "cell_type": "markdown",
      "source": [
        "Para o segundo caso a leitura do código seria: para cada preço da lista preco_produtos será calculado um item da lista imposto. Esse valor será calculado por preço * 0.3"
      ],
      "metadata": {
        "id": "U4Fc0tZcIlEm"
      }
    },
    {
      "cell_type": "markdown",
      "source": [
        "# Transformando lista em lista de tuplas e usando o List Comprehension para percorrer os dados"
      ],
      "metadata": {
        "id": "6m6wQ-N4JVvG"
      }
    },
    {
      "cell_type": "code",
      "source": [
        "produtos = ['iphone', 'mac', 'tv', 'ps5']\n",
        "vendas = [1000, 421, 640, 5210]\n",
        "\n",
        "lista_tuplas = list(zip(vendas, produtos))\n",
        "lista_tuplas.sort(reverse=True)\n",
        "print(lista_tuplas)"
      ],
      "metadata": {
        "colab": {
          "base_uri": "https://localhost:8080/"
        },
        "id": "enH7V8z2JfJ8",
        "outputId": "b7d3a701-6aa3-4ee9-8abd-d57093b3c49b"
      },
      "execution_count": 27,
      "outputs": [
        {
          "output_type": "stream",
          "name": "stdout",
          "text": [
            "[(5210, 'ps5'), (1000, 'iphone'), (640, 'tv'), (421, 'mac')]\n"
          ]
        }
      ]
    },
    {
      "cell_type": "code",
      "source": [
        "# Imprimindo da forma convencional\n",
        "for item in lista_tuplas:\n",
        "  print(item)"
      ],
      "metadata": {
        "colab": {
          "base_uri": "https://localhost:8080/"
        },
        "id": "N6T7bOzGLN3G",
        "outputId": "7e27eaab-ddb1-4825-ab69-129264a0fa5d"
      },
      "execution_count": 26,
      "outputs": [
        {
          "output_type": "stream",
          "name": "stdout",
          "text": [
            "(5210, 'ps5')\n",
            "(1000, 'iphone')\n",
            "(640, 'tv')\n",
            "(421, 'mac')\n"
          ]
        }
      ]
    },
    {
      "cell_type": "code",
      "source": [
        "# Imprimindo com List Comprehesion\n",
        "prod = [produto for venda, produto in lista_tuplas]\n",
        "print(prod)"
      ],
      "metadata": {
        "colab": {
          "base_uri": "https://localhost:8080/"
        },
        "id": "6EqHJhP0LadW",
        "outputId": "7438bbcb-7d68-4cdf-8a3e-96435dce24ba"
      },
      "execution_count": 29,
      "outputs": [
        {
          "output_type": "stream",
          "name": "stdout",
          "text": [
            "['ps5', 'iphone', 'tv', 'mac']\n"
          ]
        }
      ]
    },
    {
      "cell_type": "code",
      "source": [],
      "metadata": {
        "id": "_cL3nsgOL4Xn"
      },
      "execution_count": 24,
      "outputs": []
    },
    {
      "cell_type": "code",
      "source": [],
      "metadata": {
        "id": "d5vgx6CZN-B-"
      },
      "execution_count": null,
      "outputs": []
    },
    {
      "cell_type": "markdown",
      "source": [
        "# Adicionando IF"
      ],
      "metadata": {
        "id": "ZPKmjrwjOZGH"
      }
    },
    {
      "cell_type": "code",
      "source": [
        "meta = 1000\n",
        "vendas = [120, 4000, 1240, 985, 2142]\n",
        "produtos = ['iphone',' ps5', 'monitor', 'mac', 'smartwatch']\n",
        "\n",
        "produto_acima_meta = [produto for i, produto in enumerate(produtos) if vendas[i] > meta]\n",
        "\n",
        "print(produto_acima_meta)"
      ],
      "metadata": {
        "colab": {
          "base_uri": "https://localhost:8080/"
        },
        "id": "_cqStJ8cOdK2",
        "outputId": "5b1fc40c-30e9-4b64-ad56-7b1c17db45b9"
      },
      "execution_count": 30,
      "outputs": [
        {
          "output_type": "stream",
          "name": "stdout",
          "text": [
            "[' ps5', 'monitor', 'smartwatch']\n"
          ]
        }
      ]
    },
    {
      "cell_type": "code",
      "source": [],
      "metadata": {
        "id": "eECoTtSMRP2l"
      },
      "execution_count": null,
      "outputs": []
    }
  ]
}