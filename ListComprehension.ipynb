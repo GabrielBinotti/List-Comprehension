{
  "nbformat": 4,
  "nbformat_minor": 0,
  "metadata": {
    "colab": {
      "provenance": [],
      "authorship_tag": "ABX9TyMYAmg7DyctO1zS16Bi6n+a",
      "include_colab_link": true
    },
    "kernelspec": {
      "name": "python3",
      "display_name": "Python 3"
    },
    "language_info": {
      "name": "python"
    }
  },
  "cells": [
    {
      "cell_type": "markdown",
      "metadata": {
        "id": "view-in-github",
        "colab_type": "text"
      },
      "source": [
        "<a href=\"https://colab.research.google.com/github/GabrielBinotti/List-Comprehension/blob/main/ListComprehension.ipynb\" target=\"_parent\"><img src=\"https://colab.research.google.com/assets/colab-badge.svg\" alt=\"Open In Colab\"/></a>"
      ]
    },
    {
      "cell_type": "markdown",
      "source": [
        "# List Comprehension"
      ],
      "metadata": {
        "id": "hMRN2McbFlsV"
      }
    },
    {
      "cell_type": "code",
      "source": [
        "preco_produtos = [100,520,150,300,5500]\n",
        "produtos = ['vinho', 'cafeteira', 'relogio', 'microondas', 'iphone']"
      ],
      "metadata": {
        "id": "I7qGJtRNHc7m"
      },
      "execution_count": 33,
      "outputs": []
    },
    {
      "cell_type": "markdown",
      "source": [
        "Agora o valor do imposto de cada produto deve ser o valor dele mias 30%. Qual o valor de imposto de cada produto."
      ],
      "metadata": {
        "id": "HqX7e3UoHuIm"
      }
    },
    {
      "cell_type": "code",
      "source": [
        "# Forma tradicional\n",
        "impostos = []\n",
        "\n",
        "for item in preco_produtos:\n",
        "  impostos.append(item * 0.3)\n",
        "print(impostos)"
      ],
      "metadata": {
        "colab": {
          "base_uri": "https://localhost:8080/"
        },
        "id": "8ah-bELWIBv1",
        "outputId": "fb83757d-f8d1-4ffa-faf8-65b21acabaed"
      },
      "execution_count": 35,
      "outputs": [
        {
          "output_type": "stream",
          "name": "stdout",
          "text": [
            "[30.0, 156.0, 45.0, 90.0, 1650.0]\n"
          ]
        }
      ]
    },
    {
      "cell_type": "code",
      "source": [
        "# Usando List Comprehension\n",
        "impostos = [preco * 0.3 for preco in preco_produtos]\n",
        "print(impostos)"
      ],
      "metadata": {
        "colab": {
          "base_uri": "https://localhost:8080/"
        },
        "id": "44_V-E1EITFO",
        "outputId": "2be0b58f-e614-4441-8a45-0f1513d93263"
      },
      "execution_count": 36,
      "outputs": [
        {
          "output_type": "stream",
          "name": "stdout",
          "text": [
            "[30.0, 156.0, 45.0, 90.0, 1650.0]\n"
          ]
        }
      ]
    },
    {
      "cell_type": "markdown",
      "source": [
        "Para o segundo caso a leitura do código seria: para cada preço da lista preco_produtos será calculado um item da lista imposto. Esse valor será calculado por preço * 0.3"
      ],
      "metadata": {
        "id": "U4Fc0tZcIlEm"
      }
    },
    {
      "cell_type": "markdown",
      "source": [
        "# Transformando lista em lista de tuplas e usando o List Comprehension para percorrer os dados"
      ],
      "metadata": {
        "id": "6m6wQ-N4JVvG"
      }
    },
    {
      "cell_type": "code",
      "source": [
        "produtos = ['iphone', 'mac', 'tv', 'ps5']\n",
        "vendas = [1000, 421, 640, 5210]\n",
        "\n",
        "lista_tuplas = list(zip(vendas, produtos))\n",
        "lista_tuplas.sort(reverse=True)\n",
        "print(lista_tuplas)"
      ],
      "metadata": {
        "colab": {
          "base_uri": "https://localhost:8080/"
        },
        "id": "enH7V8z2JfJ8",
        "outputId": "e8f1b867-cafb-4ba0-b759-fc476d091622"
      },
      "execution_count": 37,
      "outputs": [
        {
          "output_type": "stream",
          "name": "stdout",
          "text": [
            "[(5210, 'ps5'), (1000, 'iphone'), (640, 'tv'), (421, 'mac')]\n"
          ]
        }
      ]
    },
    {
      "cell_type": "code",
      "source": [
        "# Imprimindo da forma convencional\n",
        "for item in lista_tuplas:\n",
        "  print(item)"
      ],
      "metadata": {
        "colab": {
          "base_uri": "https://localhost:8080/"
        },
        "id": "N6T7bOzGLN3G",
        "outputId": "9e95e4a6-e3c9-43b7-e9a6-5108e1129433"
      },
      "execution_count": 38,
      "outputs": [
        {
          "output_type": "stream",
          "name": "stdout",
          "text": [
            "(5210, 'ps5')\n",
            "(1000, 'iphone')\n",
            "(640, 'tv')\n",
            "(421, 'mac')\n"
          ]
        }
      ]
    },
    {
      "cell_type": "code",
      "source": [
        "# Imprimindo com List Comprehesion\n",
        "prod = [produto for venda, produto in lista_tuplas]\n",
        "print(prod)"
      ],
      "metadata": {
        "colab": {
          "base_uri": "https://localhost:8080/"
        },
        "id": "6EqHJhP0LadW",
        "outputId": "44e62e0e-6d88-410e-db05-886193ec095b"
      },
      "execution_count": 39,
      "outputs": [
        {
          "output_type": "stream",
          "name": "stdout",
          "text": [
            "['ps5', 'iphone', 'tv', 'mac']\n"
          ]
        }
      ]
    },
    {
      "cell_type": "markdown",
      "source": [
        "# Adicionando IF"
      ],
      "metadata": {
        "id": "ZPKmjrwjOZGH"
      }
    },
    {
      "cell_type": "code",
      "source": [
        "meta = 1000\n",
        "vendas = [120, 4000, 1240, 985, 2142]\n",
        "produtos = ['iphone',' ps5', 'monitor', 'mac', 'smartwatch']\n",
        "\n",
        "produto_acima_meta = [produto for i, produto in enumerate(produtos) if vendas[i] > meta]\n",
        "\n",
        "print(produto_acima_meta)"
      ],
      "metadata": {
        "colab": {
          "base_uri": "https://localhost:8080/"
        },
        "id": "_cqStJ8cOdK2",
        "outputId": "44005726-237f-4b88-c57a-c5ccd1d8f583"
      },
      "execution_count": 40,
      "outputs": [
        {
          "output_type": "stream",
          "name": "stdout",
          "text": [
            "[' ps5', 'monitor', 'smartwatch']\n"
          ]
        }
      ]
    }
  ]
}